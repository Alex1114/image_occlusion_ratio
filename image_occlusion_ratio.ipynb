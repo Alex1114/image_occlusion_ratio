{
 "cells": [
  {
   "cell_type": "code",
   "execution_count": 6,
   "metadata": {},
   "outputs": [],
   "source": [
    "import numpy as np\n",
    "import time\n",
    "from shapely.geometry import Polygon  \n",
    "import scipy.io as io\n",
    "import json\n",
    "import os"
   ]
  },
  {
   "cell_type": "code",
   "execution_count": 7,
   "metadata": {},
   "outputs": [],
   "source": [
    "def Cal_area_2poly(data1,data2):\n",
    "\n",
    "    poly1 = Polygon(data1).convex_hull     \n",
    "    poly2 = Polygon(data2).convex_hull\n",
    "\n",
    "    if not poly1.intersects(poly2):\n",
    "        inter_area = 0 \n",
    "    else:\n",
    "        inter_area = poly1.intersection(poly2).area  \n",
    "        \n",
    "    poly1_area = Polygon(data1).convex_hull.area\n",
    "    return inter_area, poly1_area"
   ]
  },
  {
   "cell_type": "code",
   "execution_count": 19,
   "metadata": {},
   "outputs": [],
   "source": [
    "path = \"/home/alex/image_occlusion_ratio/a/json\""
   ]
  },
  {
   "cell_type": "code",
   "execution_count": 20,
   "metadata": {},
   "outputs": [],
   "source": [
    "ratio_list = []\n",
    "\n",
    "allFileList = os.listdir(path)\n",
    "\n",
    "for file in allFileList:\n",
    "    \n",
    "    file = path + \"/\" + file\n",
    "    \n",
    "    with open(file , \"r\") as reader:\n",
    "        jf = json.loads(reader.read())\n",
    "\n",
    "    if jf[\"shapes\"][0][\"label\"] == \"obj\":\n",
    "        data1 = jf[\"shapes\"][0][\"points\"]\n",
    "        data2 = jf[\"shapes\"][1][\"points\"]\n",
    "    else:\n",
    "        print(\"Fail\")\n",
    "\n",
    "    area, poly1_area = Cal_area_2poly(data1,data2)\n",
    "\n",
    "\n",
    "    ratio = area/poly1_area\n",
    "    ratio_list.append(ratio)\n"
   ]
  },
  {
   "cell_type": "code",
   "execution_count": 21,
   "metadata": {},
   "outputs": [
    {
     "name": "stdout",
     "output_type": "stream",
     "text": [
      "0.4456370848646415\n"
     ]
    }
   ],
   "source": [
    "print(sum(ratio_list)/len(ratio_list))"
   ]
  },
  {
   "cell_type": "code",
   "execution_count": 22,
   "metadata": {},
   "outputs": [
    {
     "name": "stdout",
     "output_type": "stream",
     "text": [
      "[0.4456370848646415]\n"
     ]
    }
   ],
   "source": [
    "print(ratio_list)"
   ]
  },
  {
   "cell_type": "code",
   "execution_count": null,
   "metadata": {},
   "outputs": [],
   "source": []
  }
 ],
 "metadata": {
  "kernelspec": {
   "display_name": "Python 3",
   "language": "python",
   "name": "python3"
  },
  "language_info": {
   "codemirror_mode": {
    "name": "ipython",
    "version": 3
   },
   "file_extension": ".py",
   "mimetype": "text/x-python",
   "name": "python",
   "nbconvert_exporter": "python",
   "pygments_lexer": "ipython3",
   "version": "3.6.12"
  }
 },
 "nbformat": 4,
 "nbformat_minor": 4
}
